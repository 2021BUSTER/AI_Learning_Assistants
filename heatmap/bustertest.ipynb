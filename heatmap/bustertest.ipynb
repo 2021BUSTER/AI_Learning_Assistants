{
 "cells": [
  {
   "cell_type": "code",
   "execution_count": 4,
   "metadata": {},
   "outputs": [
    {
     "name": "stdout",
     "output_type": "stream",
     "text": [
      "bucektmin\n"
     ]
    }
   ],
   "source": [
    "## bucket 이름 확인\n",
    "import boto3 \n",
    "s3 = boto3.resource('s3') \n",
    "for bucket in s3.buckets.all(): \n",
    "    print(bucket.name)\n"
   ]
  },
  {
   "cell_type": "markdown",
   "metadata": {},
   "source": [
    "#참고링크\n",
    "Python boto3 이용하여 AWS S3와 연동하기\n",
    "https://ndb796.tistory.com/280"
   ]
  },
  {
   "cell_type": "code",
   "execution_count": 10,
   "metadata": {},
   "outputs": [],
   "source": [
    "## bucket file 다운로드\n",
    "import boto3\n",
    "\n",
    "file_name = 'savefig_200dpi0.png'\n",
    "bucket = 'bucektmin'\n",
    "key = 'savefig_200dpi0.png'\n",
    "\n",
    "# Download the file\n",
    "client = boto3.client('s3')\n",
    "client.download_file(bucket, file_name, file_name)"
   ]
  },
  {
   "cell_type": "code",
   "execution_count": null,
   "metadata": {},
   "outputs": [],
   "source": []
  }
 ],
 "metadata": {
  "kernelspec": {
   "display_name": "Python 3",
   "language": "python",
   "name": "python3"
  },
  "language_info": {
   "codemirror_mode": {
    "name": "ipython",
    "version": 3
   },
   "file_extension": ".py",
   "mimetype": "text/x-python",
   "name": "python",
   "nbconvert_exporter": "python",
   "pygments_lexer": "ipython3",
   "version": "3.8.5"
  }
 },
 "nbformat": 4,
 "nbformat_minor": 4
}
